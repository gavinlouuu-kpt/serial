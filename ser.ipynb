{
 "cells": [
  {
   "cell_type": "code",
   "execution_count": 2,
   "metadata": {},
   "outputs": [],
   "source": [
    "import serial\n",
    "import serial.tools.list_ports"
   ]
  },
  {
   "cell_type": "markdown",
   "metadata": {},
   "source": [
    "# # First create a virtual environment and make sure the notebook is running in that environment"
   ]
  },
  {
   "cell_type": "code",
   "execution_count": null,
   "metadata": {},
   "outputs": [],
   "source": [
    "# Run this block if you are using this code for the first time\n",
    "%pip install -r requirements.txt"
   ]
  },
  {
   "cell_type": "code",
   "execution_count": 35,
   "metadata": {},
   "outputs": [],
   "source": [
    "# Only freeze requirements.txt if you are using a virtual environment and new library is installed\n",
    "!pip freeze > requirements.txt"
   ]
  },
  {
   "cell_type": "markdown",
   "metadata": {},
   "source": [
    "# Communicate with variable power supple over serial\n",
    "It appears to be USB to ttl in the default wire"
   ]
  },
  {
   "cell_type": "code",
   "execution_count": null,
   "metadata": {},
   "outputs": [],
   "source": [
    "# Examine currently existing COM ports\n",
    "\n",
    "def list_com_ports():\n",
    "    ports = serial.tools.list_ports.comports()\n",
    "    for port in ports:\n",
    "        print(port)\n",
    "\n",
    "list_com_ports()"
   ]
  },
  {
   "cell_type": "markdown",
   "metadata": {},
   "source": [
    "# DPM8600 communication\n",
    "## The command is encoded in 'ascii'\n",
    "- Currently existing tools can often give a different flavor of ascii\n",
    "- Directly use the built-in function of serial monitor in VSCode will not work"
   ]
  },
  {
   "cell_type": "code",
   "execution_count": 36,
   "metadata": {},
   "outputs": [],
   "source": [
    "ser = serial.Serial(\n",
    "    port='/dev/cu.wchusbserial2130',\n",
    "    baudrate=9600, \n",
    "    bytesize=8, \n",
    "    parity='N',\n",
    "    stopbits=1,\n",
    "    # encoding='ascii',\n",
    "    timeout=1\n",
    ")"
   ]
  },
  {
   "cell_type": "code",
   "execution_count": 37,
   "metadata": {},
   "outputs": [
    {
     "ename": "SerialException",
     "evalue": "Port is already open.",
     "output_type": "error",
     "traceback": [
      "\u001b[0;31m---------------------------------------------------------------------------\u001b[0m",
      "\u001b[0;31mSerialException\u001b[0m                           Traceback (most recent call last)",
      "\u001b[1;32m/Users/kpt/Code/serial/ser.ipynb Cell 9\u001b[0m line \u001b[0;36m1\n\u001b[0;32m----> <a href='vscode-notebook-cell:/Users/kpt/Code/serial/ser.ipynb#W1sZmlsZQ%3D%3D?line=0'>1</a>\u001b[0m ser\u001b[39m.\u001b[39;49mopen()\n",
      "File \u001b[0;32m~/.pyenv/versions/3.10.13/envs/ser-env/lib/python3.10/site-packages/serial/serialposix.py:318\u001b[0m, in \u001b[0;36mSerial.open\u001b[0;34m(self)\u001b[0m\n\u001b[1;32m    316\u001b[0m     \u001b[39mraise\u001b[39;00m SerialException(\u001b[39m\"\u001b[39m\u001b[39mPort must be configured before it can be used.\u001b[39m\u001b[39m\"\u001b[39m)\n\u001b[1;32m    317\u001b[0m \u001b[39mif\u001b[39;00m \u001b[39mself\u001b[39m\u001b[39m.\u001b[39mis_open:\n\u001b[0;32m--> 318\u001b[0m     \u001b[39mraise\u001b[39;00m SerialException(\u001b[39m\"\u001b[39m\u001b[39mPort is already open.\u001b[39m\u001b[39m\"\u001b[39m)\n\u001b[1;32m    319\u001b[0m \u001b[39mself\u001b[39m\u001b[39m.\u001b[39mfd \u001b[39m=\u001b[39m \u001b[39mNone\u001b[39;00m\n\u001b[1;32m    320\u001b[0m \u001b[39m# open\u001b[39;00m\n",
      "\u001b[0;31mSerialException\u001b[0m: Port is already open."
     ]
    }
   ],
   "source": [
    "ser.open()"
   ]
  },
  {
   "cell_type": "code",
   "execution_count": 44,
   "metadata": {},
   "outputs": [],
   "source": [
    "# ':01w10=1000,\\r\\n' is the command to set the voltage to 1000 mV\n",
    "command = ':01w10=0500,\\r\\n'"
   ]
  },
  {
   "cell_type": "code",
   "execution_count": 45,
   "metadata": {},
   "outputs": [
    {
     "name": "stdout",
     "output_type": "stream",
     "text": [
      "b':01ok\\r\\n'\n"
     ]
    }
   ],
   "source": [
    "ser.write(command.encode('ascii'))\n",
    "response = ser.read(100)\n",
    "print(response)"
   ]
  },
  {
   "cell_type": "code",
   "execution_count": 46,
   "metadata": {},
   "outputs": [
    {
     "name": "stdout",
     "output_type": "stream",
     "text": [
      "b':01ok\\r\\n'\n"
     ]
    }
   ],
   "source": [
    "# Use this command to turn on the power supply\n",
    "on_command = ':01w12=1,\\r\\n'\n",
    "ser.write(on_command.encode('ascii'))\n",
    "response = ser.read(100)\n",
    "print(response)"
   ]
  },
  {
   "cell_type": "code",
   "execution_count": 47,
   "metadata": {},
   "outputs": [
    {
     "name": "stdout",
     "output_type": "stream",
     "text": [
      "b':01ok\\r\\n'\n"
     ]
    }
   ],
   "source": [
    "# Use this command to turn off the power supply\n",
    "off_command = ':01w12=0,\\r\\n'\n",
    "ser.write(off_command.encode('ascii'))\n",
    "response = ser.read(100)\n",
    "print(response)"
   ]
  },
  {
   "cell_type": "code",
   "execution_count": 14,
   "metadata": {},
   "outputs": [],
   "source": [
    "ser.close()"
   ]
  }
 ],
 "metadata": {
  "kernelspec": {
   "display_name": "ser-env",
   "language": "python",
   "name": "python3"
  },
  "language_info": {
   "codemirror_mode": {
    "name": "ipython",
    "version": 3
   },
   "file_extension": ".py",
   "mimetype": "text/x-python",
   "name": "python",
   "nbconvert_exporter": "python",
   "pygments_lexer": "ipython3",
   "version": "3.10.13"
  }
 },
 "nbformat": 4,
 "nbformat_minor": 2
}
